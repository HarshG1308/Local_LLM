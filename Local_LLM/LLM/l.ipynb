{
 "cells": [
  {
   "cell_type": "code",
   "execution_count": 2,
   "metadata": {},
   "outputs": [
    {
     "name": "stdout",
     "output_type": "stream",
     "text": [
      "[WinError 2] The system cannot find the file specified: 'llm-mistral-invoice-cpu'\n",
      "c:\\Users\\Asus\\OneDrive\\Documents\\GitHub\\Local_LLM\\LLM\n"
     ]
    }
   ],
   "source": [
    "%cd llm-mistral-invoice-cpu"
   ]
  },
  {
   "cell_type": "code",
   "execution_count": 3,
   "metadata": {},
   "outputs": [
    {
     "name": "stderr",
     "output_type": "stream",
     "text": [
      "ERROR: Could not open requirements file: [Errno 2] No such file or directory: 'requirements.txt'\n"
     ]
    }
   ],
   "source": [
    "!pip install -r requirements.txt -q"
   ]
  },
  {
   "cell_type": "code",
   "execution_count": 8,
   "metadata": {},
   "outputs": [
    {
     "data": {
      "text/plain": [
       "['sample_doctors.txt',\n",
       " 'sample_packages.txt',\n",
       " 'Students Encyclopedia of General Knowledge- Ahmad. K.A..pdf']"
      ]
     },
     "execution_count": 8,
     "metadata": {},
     "output_type": "execute_result"
    }
   ],
   "source": [
    "import os\n",
    "os.listdir('data')"
   ]
  },
  {
   "cell_type": "code",
   "execution_count": 23,
   "metadata": {},
   "outputs": [],
   "source": [
    "!python train.py"
   ]
  },
  {
   "cell_type": "code",
   "execution_count": 19,
   "metadata": {},
   "outputs": [
    {
     "name": "stdout",
     "output_type": "stream",
     "text": [
      "\n",
      "Answer: Please make an appointment with Dr. Vikas Sharma, Orthopaedics specialist, as soon as possible to get your fracture evaluated and treated. His clinic timing are from Monday to Friday, 9:00 AM - 5:00 PM.\n",
      "==================================================\n"
     ]
    }
   ],
   "source": [
    "!python main.py \"I have fracture\" #tested on sample_doctors.txt"
   ]
  },
  {
   "cell_type": "code",
   "execution_count": 20,
   "metadata": {},
   "outputs": [
    {
     "name": "stdout",
     "output_type": "stream",
     "text": [
      "\n",
      "Answer: You should consider making an appointment with Dr. Nisha Verma, a pediatrician, as she specializes in treating children and fever is a common symptom of various pediatric conditions. However, if you are an adult, you might want to consider seeing Dr. Vikram Singh, an ENT specialist, as well, since fever can also be a symptom of ear, nose, or throat infections. Ultimately, it's important to consult with a healthcare professional for an accurate diagnosis and treatment plan.\n",
      "==================================================\n"
     ]
    }
   ],
   "source": [
    "!python main.py \"I have fever\" #tested on sample_doctors.txt"
   ]
  },
  {
   "cell_type": "code",
   "execution_count": 21,
   "metadata": {},
   "outputs": [
    {
     "name": "stdout",
     "output_type": "stream",
     "text": [
      "\n",
      "Answer: Magnetism is a property that produces force in materials resulting in attracting or repelling other materials. It arises from the motion of charged particles, such as electrons, within a material. While it's not directly related to Dr. Reddy or Dr. Desai, magnetism can impact heart and neurological health, and they are both medical specialists. For example, magnetism is used in certain medical devices like pacemakers and MRI machines.\n",
      "==================================================\n"
     ]
    }
   ],
   "source": [
    "!python main.py \"What is magnetism ?\" #tested on sample_doctors.txt"
   ]
  },
  {
   "cell_type": "code",
   "execution_count": 22,
   "metadata": {},
   "outputs": [
    {
     "name": "stdout",
     "output_type": "stream",
     "text": [
      "\n",
      "Answer: You may want to make an appointment with Dr. Vikas Sharma, an Orthopaedics (Bone) specialist, as your symptoms suggest a possible bone-related issue. Please note that while I can help provide some general information and guide you to the right specialist based on the symptom described in your question, I cannot provide medical advice or diagnose conditions over the internet. It's important to consult with healthcare professionals for accurate information regarding your specific health concerns.\n",
      "==================================================\n"
     ]
    }
   ],
   "source": [
    "!python main.py \"I am feeling pain in my leg\" #tested on sample_doctors.txt"
   ]
  },
  {
   "cell_type": "code",
   "execution_count": 24,
   "metadata": {},
   "outputs": [
    {
     "name": "stdout",
     "output_type": "stream",
     "text": [
      "\n",
      "Answer: It seems like you may be experiencing severe abdominal discomfort or pain. This symptom is not specific to either Dr. Singh (ENT) or Dr. Verma (Pediatrician), as it can indicate various conditions unrelated to their fields of expertise. If the pain persists, I would recommend contacting your primary care physician or going to an emergency room for further evaluation.\n",
      "==================================================\n"
     ]
    }
   ],
   "source": [
    "!python main.py \"My stomach is going to burst\" #tested on sample_doctors.txt"
   ]
  },
  {
   "cell_type": "code",
   "execution_count": 25,
   "metadata": {},
   "outputs": [],
   "source": [
    "!python train.py "
   ]
  },
  {
   "cell_type": "code",
   "execution_count": 33,
   "metadata": {},
   "outputs": [
    {
     "name": "stdout",
     "output_type": "stream",
     "text": [
      "\n",
      "Answer: You should consult with a healthcare professional immediately to have your heart condition evaluated. They can provide you with proper diagnosis and treatment options, such as prescribing medication or recommending a cardiac stent procedure if necessary. The cost of a cardiac stent in India is approximately Rs. 15000.\n",
      "==================================================\n"
     ]
    }
   ],
   "source": [
    "!python main.py \"I am having pain in heart\" #tested on sample_packages.txt"
   ]
  },
  {
   "cell_type": "code",
   "execution_count": 36,
   "metadata": {},
   "outputs": [
    {
     "name": "stdout",
     "output_type": "stream",
     "text": [
      "\n",
      "Answer: The laser treatment you mentioned costs around Rs. 12000.\n",
      "==================================================\n"
     ]
    }
   ],
   "source": [
    "!python main.py \"I have to remove my spectacles...How much does it cost\" #tested on sample_packages.txt"
   ]
  },
  {
   "cell_type": "code",
   "execution_count": 35,
   "metadata": {},
   "outputs": [
    {
     "name": "stdout",
     "output_type": "stream",
     "text": [
      "\n",
      "Answer: You may want to consider a skin-care treatment package that includes procedures such as chemical peels or facials designed to target acne and improve the overall complexion of your skin. Microdermabrasion can also be beneficial for reducing the appearance of pimples and blackheads. Consult with a dermatologist or skincare professional to determine which treatment options would best suit your individual needs.\n",
      "==================================================\n"
     ]
    }
   ],
   "source": [
    "!python main.py \"My face is facing acne and pimple problem\" #tested on sample_packages.txt"
   ]
  },
  {
   "cell_type": "code",
   "execution_count": 37,
   "metadata": {},
   "outputs": [
    {
     "name": "stdout",
     "output_type": "stream",
     "text": [
      "\n",
      "Answer: Assuming you are asking about orthodontic treatment using braces or aligners, the cost for alignment of teeth in India is around Rs. 8000 to Rs. 50,000 depending on the complexity of the case. This is just a rough estimate and the actual cost may vary based on the location, dentist's experience, type of treatment, and duration of the treatment. It's recommended to consult with a dental professional for an accurate assessment and quotation.\n",
      "==================================================\n"
     ]
    }
   ],
   "source": [
    "!python main.py \"My teeth are not aligned so how much does it cost to make them align\" #tested on sample_packages.txt"
   ]
  },
  {
   "cell_type": "code",
   "execution_count": 38,
   "metadata": {},
   "outputs": [
    {
     "name": "stdout",
     "output_type": "stream",
     "text": [
      "\n",
      "Answer: To get your child vaccinated, you can contact your pediatrician or visit a local health clinic to schedule an appointment for a routine check-up and vaccinations. Your healthcare provider will recommend the appropriate vaccination package based on your child's age and developmental milestones. It is important to keep your child up-to-date with recommended vaccinations to ensure their overall health and protection against preventable diseases.\n",
      "==================================================\n"
     ]
    }
   ],
   "source": [
    "!python main.py \"I want my child's vaccination\""
   ]
  }
 ],
 "metadata": {
  "kernelspec": {
   "display_name": "Python 3",
   "language": "python",
   "name": "python3"
  },
  "language_info": {
   "codemirror_mode": {
    "name": "ipython",
    "version": 3
   },
   "file_extension": ".py",
   "mimetype": "text/x-python",
   "name": "python",
   "nbconvert_exporter": "python",
   "pygments_lexer": "ipython3",
   "version": "3.10.11"
  }
 },
 "nbformat": 4,
 "nbformat_minor": 2
}
